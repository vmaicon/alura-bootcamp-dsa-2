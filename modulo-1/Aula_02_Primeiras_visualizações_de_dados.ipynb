{
  "nbformat": 4,
  "nbformat_minor": 0,
  "metadata": {
    "colab": {
      "name": "Aula 02 Primeiras visualizações de dados.ipynb",
      "provenance": [],
      "collapsed_sections": [],
      "toc_visible": true,
      "authorship_tag": "ABX9TyNPNVwbP93Z925mJk5EGrYC",
      "include_colab_link": true
    },
    "kernelspec": {
      "name": "python3",
      "display_name": "Python 3",
      "language": "python"
    },
    "language_info": {
      "name": "python",
      "version": "3.6.9"
    }
  },
  "cells": [
    {
      "cell_type": "markdown",
      "metadata": {
        "id": "view-in-github",
        "colab_type": "text"
      },
      "source": [
        "<a href=\"https://colab.research.google.com/github/vmaicon/alura-bootcamp-dsa-2/blob/main/Aula_02_Primeiras_visualiza%C3%A7%C3%B5es_de_dados.ipynb\" target=\"_parent\"><img src=\"https://colab.research.google.com/assets/colab-badge.svg\" alt=\"Open In Colab\"/></a>"
      ]
    },
    {
      "cell_type": "markdown",
      "metadata": {
        "id": "I3K9p9kraW1u"
      },
      "source": [
        "# Primeiras visualizações de dados"
      ]
    },
    {
      "cell_type": "markdown",
      "metadata": {
        "id": "jRL9WOUhbscZ"
      },
      "source": [
        "- Selecionado Produção Hospitalar;\n",
        "- Aqui o link inicial da consulta: https://datasus.saude.gov.br/acesso-a-informacao/producao-hospitalar-sih-sus\n",
        "- Opção: Dados Consolidados AIH (RD), por **local de internação**, a partir de 2008;\n",
        "- Na caixa de seleção escolhe: Brasil por Região e Unbidade da Federação\n",
        "\n",
        "## Faremos uma análise por Estado\n",
        "\n",
        "- Será analisado o total gasto por Estado\n",
        "\n",
        "### Em Procedimentos hospitalares do SUS - por local de internação - Brasil\n",
        "\n",
        "Tem as caixinhas:\n",
        "\n",
        "*   **Linha**: \"Unidade da Federação\"\n",
        "*   **Coluna**: \"Ano/mês atendimento\"\n",
        "*   **Conteúdo**: \"Valor Total\"\n",
        "\n",
        "### Em Períodos disponíveis\n",
        "\n",
        "- Seleciona todas as opções.\n",
        "\n",
        "Após o carregamento dos dados, clica no botão para **COPIAR COMO .CSV**"
      ]
    },
    {
      "cell_type": "code",
      "metadata": {
        "id": "nguH8CoUaHWm"
      },
      "source": [
        "import pandas as pd\n",
        "arquivo = \"https://github.com/vmaicon/alura-bootcamp-dsa-2/raw/main/dados/jan-2008-Mar-2021-ano-mes-atendimento.csv\"\n",
        "\n",
        "dados_atendimento = pd.read_csv(arquivo, encoding='ISO-8859-1', skiprows=3, skipfooter=12,\n",
        "                    thousands='.', decimal=',', sep=';', engine='python')"
      ],
      "execution_count": null,
      "outputs": []
    },
    {
      "cell_type": "code",
      "metadata": {
        "colab": {
          "base_uri": "https://localhost:8080/",
          "height": 886
        },
        "id": "GBD0M4JvahcL",
        "outputId": "da4625a6-24f7-44fa-b8eb-b6c92676a27f"
      },
      "source": [
        "dados_atendimento[['2007/Ago','2008/Ago']]"
      ],
      "execution_count": null,
      "outputs": []
    },
    {
      "cell_type": "code",
      "metadata": {
        "colab": {
          "base_uri": "https://localhost:8080/"
        },
        "id": "t6UCOHdpajJi",
        "outputId": "a1d8aca7-cafa-4388-dd16-764f32e81c43"
      },
      "source": [
        "dados_atendimento.mean().index"
      ],
      "execution_count": null,
      "outputs": []
    },
    {
      "cell_type": "code",
      "metadata": {
        "colab": {
          "base_uri": "https://localhost:8080/"
        },
        "id": "137UvH1wamIr",
        "outputId": "526a7952-57e7-4f5c-a12e-650219d2e6e5"
      },
      "source": [
        "colunas_usaveis = dados_atendimento.mean().index\n",
        "colunas_usaveis"
      ],
      "execution_count": null,
      "outputs": []
    },
    {
      "cell_type": "code",
      "metadata": {
        "id": "zfLx7o9tanzz"
      },
      "source": [
        "usaveis = dados_atendimento[colunas_usaveis].head() # faz um slice apenas com os meses que tem todos os valores"
      ],
      "execution_count": null,
      "outputs": []
    },
    {
      "cell_type": "code",
      "metadata": {
        "colab": {
          "base_uri": "https://localhost:8080/"
        },
        "id": "05VQtYXOapL9",
        "outputId": "783dd558-9c0b-48c6-97b0-10e3add7bcca"
      },
      "source": [
        "colunas_usaveis = dados_atendimento.mean().index.tolist()\n",
        "colunas_usaveis.insert(0, \"Unidade da Federação\")\n",
        "colunas_usaveis"
      ],
      "execution_count": null,
      "outputs": []
    },
    {
      "cell_type": "code",
      "metadata": {
        "colab": {
          "base_uri": "https://localhost:8080/",
          "height": 321
        },
        "id": "8BzbeliKaxn6",
        "outputId": "2db44caf-d5a4-4889-e903-332f38cd4b9d"
      },
      "source": [
        "usaveis = dados_atendimento[colunas_usaveis]\n",
        "usaveis.head()"
      ],
      "execution_count": null,
      "outputs": []
    },
    {
      "cell_type": "code",
      "metadata": {
        "colab": {
          "base_uri": "https://localhost:8080/",
          "height": 352
        },
        "id": "szfIUrWFayqa",
        "outputId": "f0148b50-b14a-488f-e072-72a09d85692a"
      },
      "source": [
        "usaveis = usaveis.set_index('Unidade da Federação') # o set_index devolve um valor novo, precisa reatribuir\n",
        "usaveis.head()"
      ],
      "execution_count": null,
      "outputs": []
    },
    {
      "cell_type": "code",
      "metadata": {
        "colab": {
          "base_uri": "https://localhost:8080/"
        },
        "id": "Wnd3F0hWaz2L",
        "outputId": "d840b36c-6ada-4f15-ebd5-8e7f4710ca14"
      },
      "source": [
        "usaveis['2019/Ago'].head() # trás a coluna"
      ],
      "execution_count": null,
      "outputs": []
    },
    {
      "cell_type": "code",
      "metadata": {
        "colab": {
          "base_uri": "https://localhost:8080/"
        },
        "id": "dRwEcUYOa1j5",
        "outputId": "45ca2240-16a5-429f-c5de-35f32ccaf04d"
      },
      "source": [
        "usaveis.loc[\"12 Acre\"] # retorna a linha cujo indice é Acre"
      ],
      "execution_count": null,
      "outputs": []
    },
    {
      "cell_type": "code",
      "metadata": {
        "colab": {
          "base_uri": "https://localhost:8080/",
          "height": 258
        },
        "id": "AItiWCaea26d",
        "outputId": "1d3fe830-cfa5-4c68-8874-6a356cd3a973"
      },
      "source": [
        "usaveis.T.head() #Quando chama a função T, as colunas são os Estados"
      ],
      "execution_count": null,
      "outputs": []
    },
    {
      "cell_type": "code",
      "metadata": {
        "colab": {
          "base_uri": "https://localhost:8080/",
          "height": 488
        },
        "id": "4ppTR55Ea17s",
        "outputId": "3c926e57-f7f2-4c64-c2ec-0adebceecf52"
      },
      "source": [
        "usaveis.T.plot(figsize = (10,6))"
      ],
      "execution_count": null,
      "outputs": []
    },
    {
      "cell_type": "code",
      "metadata": {
        "id": "lmxOtA1Va6pL"
      },
      "source": [
        "usaveis = usaveis.drop(\"Total\", axis=1)"
      ],
      "execution_count": null,
      "outputs": []
    },
    {
      "cell_type": "code",
      "metadata": {
        "colab": {
          "base_uri": "https://localhost:8080/",
          "height": 420
        },
        "id": "ivj-6Vo7a7v_",
        "outputId": "c385e6f6-905f-41be-a9c9-c9319244ba31"
      },
      "source": [
        "usaveis.tail()"
      ],
      "execution_count": null,
      "outputs": []
    },
    {
      "cell_type": "code",
      "metadata": {
        "colab": {
          "base_uri": "https://localhost:8080/"
        },
        "id": "B0Mt7AHenmiK",
        "outputId": "3c1ff2b0-fa6f-4656-ef85-c685dc5a3b36"
      },
      "source": [
        "usaveis.T.columns[:7]"
      ],
      "execution_count": null,
      "outputs": []
    },
    {
      "cell_type": "code",
      "metadata": {
        "colab": {
          "base_uri": "https://localhost:8080/",
          "height": 290
        },
        "id": "FND7bnb-1LXT",
        "outputId": "ef0641a1-5c59-469d-c800-ec829417b421"
      },
      "source": [
        "usaveis['Total'] = usaveis.sum(axis=1)\n",
        "ordenado = usaveis.sort_values(by='Total', ascending=True)\n",
        "ordenado.head()"
      ],
      "execution_count": null,
      "outputs": []
    },
    {
      "cell_type": "code",
      "execution_count": null,
      "metadata": {},
      "outputs": [],
      "source": [
        "usaveis = usaveis.drop('Total', axis=1)"
      ]
    },
    {
      "cell_type": "code",
      "metadata": {
        "colab": {
          "base_uri": "https://localhost:8080/",
          "height": 488
        },
        "id": "HdhMx_Y2a9iz",
        "outputId": "5ecff0bf-4ef7-4941-f480-7a4d8205cd14"
      },
      "source": [
        "usaveis.T.plot(figsize = (10,6))"
      ],
      "execution_count": null,
      "outputs": []
    },
    {
      "cell_type": "markdown",
      "metadata": {
        "id": "pGdydaRfbBAy"
      },
      "source": [
        "## Desafio 01: Reposicionar a legenda do gráfico em uma posição mais adequada"
      ]
    },
    {
      "cell_type": "code",
      "metadata": {
        "id": "2dJyCeQNbDXd"
      },
      "source": [
        "import matplotlib.pyplot as plt\n",
        "import matplotlib.ticker as ticker\n",
        "\n",
        "# Função para montar os gráficos passando o DataFrame\n",
        "def monta_grafico(usaveis):\n",
        "  ax = usaveis.plot(figsize = (12,6))\n",
        "  \n",
        "  ax.yaxis.set_major_formatter(ticker.StrMethodFormatter('{x:,.2f}'))\n",
        "\n",
        "  titulo = 'Custos com procedimentos hospitalares do SUS por local de internação'\n",
        "  sub_titulo = 'Ano/mês de atendimento'\n",
        "\n",
        "  # Adiciona o título e o subtitulo, na proxima linha\n",
        "  plt.title(f\"{titulo}\\n{sub_titulo}\")\n",
        "\n",
        "  plt.xlabel(sub_titulo)\n",
        "  plt.ylabel('Custo por Estado')\n",
        "  plt.legend(bbox_to_anchor=(1, 1.02))\n",
        "\n",
        "  plt.show()"
      ],
      "execution_count": null,
      "outputs": []
    },
    {
      "cell_type": "code",
      "metadata": {
        "colab": {
          "base_uri": "https://localhost:8080/",
          "height": 469
        },
        "id": "dw_zzscvlwKK",
        "outputId": "ba427dd5-b42a-472f-9d63-931352062e05"
      },
      "source": [
        "monta_grafico(usaveis.T)"
      ],
      "execution_count": null,
      "outputs": []
    },
    {
      "cell_type": "markdown",
      "metadata": {
        "id": "cT80xGu3bEIj"
      },
      "source": [
        "### Referências:\n",
        "\n",
        "*   https://matplotlib.org/stable/api/_as_gen/matplotlib.pyplot.figlegend.html#matplotlib.pyplot.figlegend\n"
      ]
    },
    {
      "cell_type": "markdown",
      "metadata": {
        "id": "IYZylRoObImp"
      },
      "source": [
        "## Desafio 02: Plotar o gráfico de linha com apenas 5 estados de sua preferência"
      ]
    },
    {
      "cell_type": "code",
      "metadata": {
        "colab": {
          "base_uri": "https://localhost:8080/",
          "height": 419
        },
        "id": "V_kSe4YnjRQZ",
        "outputId": "69a145ee-206b-47db-a8d6-8b1f9ed56604"
      },
      "source": [
        "monta_grafico(usaveis[:5].T) # apenas os 5 primeiros Estados da Região Norte"
      ],
      "execution_count": null,
      "outputs": []
    },
    {
      "cell_type": "markdown",
      "metadata": {
        "id": "UMAeW_ORnBR6"
      },
      "source": [
        "- Minha intenção aqui é comparar os custos do Acre, meu Estado, com os Estados vizinhos"
      ]
    },
    {
      "cell_type": "code",
      "metadata": {
        "colab": {
          "base_uri": "https://localhost:8080/",
          "height": 419
        },
        "id": "kIj7_YCYjq8U",
        "outputId": "e63e61a9-edda-471d-d496-b3071516c0f3"
      },
      "source": [
        "lista = usaveis.T[['11 Rondônia', '12 Acre', '13 Amazonas']]\n",
        "monta_grafico(lista)"
      ],
      "execution_count": null,
      "outputs": []
    },
    {
      "cell_type": "markdown",
      "metadata": {
        "id": "ajM1NvNxzPf3"
      },
      "source": [
        "- Uma comparação agora com Roraima e Amapá, onde os custos parecem ter mais proximidade"
      ]
    },
    {
      "cell_type": "code",
      "metadata": {
        "colab": {
          "base_uri": "https://localhost:8080/",
          "height": 419
        },
        "id": "sVI1q7WotUow",
        "outputId": "81788335-b4d8-4e9e-dacc-9394406b4f87"
      },
      "source": [
        "lista = usaveis.T[['14 Roraima', '12 Acre', '16 Amapá']]\n",
        "monta_grafico(lista)"
      ],
      "execution_count": null,
      "outputs": []
    }
  ]
}