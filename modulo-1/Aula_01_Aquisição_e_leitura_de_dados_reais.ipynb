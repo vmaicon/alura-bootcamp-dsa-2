{
  "nbformat": 4,
  "nbformat_minor": 0,
  "metadata": {
    "colab": {
      "name": "Aula 01 Aquisição e leitura de dados reais.ipynb",
      "provenance": [],
      "collapsed_sections": [],
      "toc_visible": true,
      "authorship_tag": "ABX9TyPf3HA+API1VTdPTJ9jUm8I",
      "include_colab_link": true
    },
    "kernelspec": {
      "name": "python3",
      "display_name": "Python 3",
      "language": "python"
    },
    "language_info": {
      "name": "python",
      "version": "3.6.9"
    }
  },
  "cells": [
    {
      "cell_type": "markdown",
      "metadata": {
        "id": "view-in-github",
        "colab_type": "text"
      },
      "source": [
        "<a href=\"https://colab.research.google.com/github/vmaicon/alura-bootcamp-dsa-2/blob/main/modulo-1/Aula_01_Aquisi%C3%A7%C3%A3o_e_leitura_de_dados_reais.ipynb\" target=\"_parent\"><img src=\"https://colab.research.google.com/assets/colab-badge.svg\" alt=\"Open In Colab\"/></a>"
      ]
    },
    {
      "cell_type": "markdown",
      "metadata": {
        "id": "lYXjMFO23smf"
      },
      "source": [
        "# Explorando dados do datasus a partir de 2008"
      ]
    },
    {
      "cell_type": "markdown",
      "metadata": {
        "id": "I0eYQvhhh7Qh"
      },
      "source": [
        "# 01. Aquisição e leitura de dados reais\n",
        "\n",
        "- Selecionado Produção Hospitalar;\n",
        "- Aqui o link inicial da consulta: https://datasus.saude.gov.br/acesso-a-informacao/producao-hospitalar-sih-sus\n",
        "- Opção: Dados Consolidados AIH (RD), por **local de internação**, a partir de 2008;\n",
        "- Na caixa de seleção escolhe: Brasil por Região e Unbidade da Federação\n",
        "\n",
        "## Faremos uma análise por Estado\n",
        "\n",
        "- Será analisado o total gasto por Estado\n",
        "\n",
        "### Em Procedimentos hospitalares do SUS - por local de internação - Brasil\n",
        "\n",
        "Tem as caixinhas:\n",
        "\n",
        "*   **Linha**: \"Unidade da Federação\"\n",
        "*   **Coluna**: \"Ano/mês processamento\" (para evitar alterações dos números em outras colunas)\n",
        "*   **Conteúdo**: \"Valor Total\"\n",
        "\n",
        "### Em Períodos disponíveis\n",
        "\n",
        "- Seleciona todas as opções.\n",
        "\n",
        "Após o carregamento dos dados, clica no botão para **COPIAR COMO .CSV**"
      ]
    },
    {
      "cell_type": "code",
      "metadata": {
        "id": "9-a1v-p-ibe8"
      },
      "source": [
        "import pandas as pd\n",
        "\n",
        "arquivo = \"https://raw.githubusercontent.com/vmaicon/alura-bootcamp-dsa-2/main/dados/jan-2008-Mar-2021-ano-mes-processamento.csv\"\n",
        "\n",
        "dados = pd.read_csv(arquivo, encoding='ISO-8859-1', skiprows=3, skipfooter=12,\n",
        "                    thousands='.', decimal=',', sep=';', engine='python')"
      ],
      "execution_count": null,
      "outputs": []
    },
    {
      "cell_type": "code",
      "metadata": {
        "colab": {
          "base_uri": "https://localhost:8080/",
          "height": 1000
        },
        "id": "uJN0Sn0Ykw3D",
        "outputId": "f9d19f7d-0e46-4ad4-e503-75a062b941bf"
      },
      "source": [
        "dados"
      ],
      "execution_count": null,
      "outputs": []
    },
    {
      "cell_type": "code",
      "metadata": {
        "colab": {
          "base_uri": "https://localhost:8080/",
          "height": 321
        },
        "id": "-TYWROUYpyQv",
        "outputId": "53c68417-0aa3-458a-b9f9-35c107b91eaf"
      },
      "source": [
        "dados.head() # mostra apenas as 5 primeiras linhas"
      ],
      "execution_count": null,
      "outputs": []
    },
    {
      "cell_type": "code",
      "metadata": {
        "colab": {
          "base_uri": "https://localhost:8080/",
          "height": 389
        },
        "id": "bgYXRIoJmeC5",
        "outputId": "a909e1a0-2cdd-427e-bf15-9f8983784ad4"
      },
      "source": [
        "dados.tail() # mostra as 5 úlitmas linhas"
      ],
      "execution_count": null,
      "outputs": []
    },
    {
      "cell_type": "code",
      "metadata": {
        "colab": {
          "base_uri": "https://localhost:8080/"
        },
        "id": "3_dqsVS0nO0F",
        "outputId": "3103c3db-e6b9-4e40-adc7-3c3b3310cfaf"
      },
      "source": [
        "dados.mean() # retorna a média para cadas coluna"
      ],
      "execution_count": null,
      "outputs": []
    },
    {
      "cell_type": "code",
      "metadata": {
        "colab": {
          "base_uri": "https://localhost:8080/"
        },
        "id": "VcIZ8bX2mcwP",
        "outputId": "9f7ee16b-e60e-428c-e910-cac4dc4bc9fd"
      },
      "source": [
        "dados.info()"
      ],
      "execution_count": null,
      "outputs": []
    },
    {
      "cell_type": "markdown",
      "metadata": {
        "id": "Nvt509hNJEEE"
      },
      "source": [
        "- Apresentando os dados formatados com duas casas decimais"
      ]
    },
    {
      "cell_type": "code",
      "metadata": {
        "id": "OBBGoDnCn0no"
      },
      "source": [
        "pd.options.display.float_format = \"{:.2f}\".format"
      ],
      "execution_count": null,
      "outputs": []
    },
    {
      "cell_type": "code",
      "metadata": {
        "colab": {
          "base_uri": "https://localhost:8080/"
        },
        "id": "h7y2io22oaL8",
        "outputId": "5101b8cd-0e0e-42eb-a48c-0a4c39f5ecdb"
      },
      "source": [
        "dados.mean()"
      ],
      "execution_count": null,
      "outputs": []
    },
    {
      "cell_type": "markdown",
      "metadata": {
        "id": "_eg8GRlDKaXR"
      },
      "source": [
        "- Selecionando apenas as séries do mês de Agosto: ```\"2008/ago\"```\n",
        "\n"
      ]
    },
    {
      "cell_type": "code",
      "metadata": {
        "colab": {
          "base_uri": "https://localhost:8080/"
        },
        "id": "IRyAHzJrKuLE",
        "outputId": "fec8e749-3096-447c-f5fd-3a70ffbb50d4"
      },
      "source": [
        "dados['2008/Ago']"
      ],
      "execution_count": null,
      "outputs": []
    },
    {
      "cell_type": "code",
      "metadata": {
        "colab": {
          "base_uri": "https://localhost:8080/"
        },
        "id": "DJJ-bgDtMR6i",
        "outputId": "bd8ddcd7-9d28-4346-b3d3-43260fb6de28"
      },
      "source": [
        "dados['2008/Ago'].mean()"
      ],
      "execution_count": null,
      "outputs": []
    },
    {
      "cell_type": "code",
      "metadata": {
        "colab": {
          "base_uri": "https://localhost:8080/",
          "height": 308
        },
        "id": "IG-yDCTaNtIt",
        "outputId": "f9e1b92b-5696-4cd3-e92e-2c7e9df96dde"
      },
      "source": [
        "dados.plot(x='Unidade da Federação',y='2008/Ago')"
      ],
      "execution_count": null,
      "outputs": []
    },
    {
      "cell_type": "code",
      "metadata": {
        "colab": {
          "base_uri": "https://localhost:8080/",
          "height": 524
        },
        "id": "80x4vTHeP605",
        "outputId": "c6603831-2477-41ba-f862-6a26d0b36d9c"
      },
      "source": [
        "dados.plot(x='Unidade da Federação',y='2008/Ago',kind='bar', figsize=(9,6))"
      ],
      "execution_count": null,
      "outputs": []
    },
    {
      "cell_type": "code",
      "metadata": {
        "colab": {
          "base_uri": "https://localhost:8080/",
          "height": 512
        },
        "id": "12EAiqn_Sq4x",
        "outputId": "ca986fa0-d8bf-4beb-8dd5-b6ae19bef9b2"
      },
      "source": [
        "import matplotlib.pyplot as plt\n",
        "import matplotlib.ticker as ticker\n",
        "\n",
        "ax = dados.plot(x='Unidade da Federação',y='2008/Ago',kind='bar', figsize=(9,6))\n",
        "\n",
        "ax.yaxis.set_major_formatter(ticker.StrMethodFormatter('{x:,.2f}'))\n",
        "\n",
        "plt.title('Valor por unidade da federação')\n",
        "\n",
        "plt.show()"
      ],
      "execution_count": null,
      "outputs": []
    },
    {
      "cell_type": "markdown",
      "metadata": {
        "id": "eMTv5_KIX4Il"
      },
      "source": [
        "---\n",
        "## Desafio 1: escolher um título mais descritivo, que passe a mensagem adequada."
      ]
    },
    {
      "cell_type": "markdown",
      "metadata": {
        "id": "M_m1tDy_mSy3"
      },
      "source": [
        "Achei bem legal ter a flexibildade para alterar o titulo e experimentei também:\n",
        "- Adicionar uma **label y**: `plt.ylabel('Custo por Estado')` \n",
        "- Alterar a **label x** *Unidade da Federação* para: `plt.xlabel('Estados')`;\n",
        "- Remover os números antes dos nomes dos Estados, no eixo x;\n",
        "- Ordenação por valores em ordem decrescente em: `dados['2008/Ago']` para um novo DataFrame **df_processamento**\n",
        "\n",
        "- O trecho de código abaixo vai remover os números antes dos nomes\n",
        "- Exemplo de `\"11 Rondônia\"`, vai começar a partir da letra R, \n",
        "- O resultado vai ser `\"Rondônia\"`"
      ]
    },
    {
      "cell_type": "code",
      "metadata": {
        "id": "r85FteopZlF_"
      },
      "source": [
        "df_processamento = dados.copy() #deixo os dados originais para usar uma cópia\n",
        "\n",
        "df_processamento['Unidade da Federação'] = df_processamento['Unidade da Federação'].str[3:]"
      ],
      "execution_count": null,
      "outputs": []
    },
    {
      "cell_type": "markdown",
      "metadata": {
        "id": "U4WY8K3lovI5"
      },
      "source": [
        "- O resultado pode ser conferido abaixo"
      ]
    },
    {
      "cell_type": "code",
      "metadata": {
        "id": "8da4W74Mo2WS",
        "colab": {
          "base_uri": "https://localhost:8080/"
        },
        "outputId": "489ba905-da38-4da7-b9c8-eb7a534dc436"
      },
      "source": [
        "df_processamento['Unidade da Federação'].tail()"
      ],
      "execution_count": null,
      "outputs": []
    },
    {
      "cell_type": "markdown",
      "metadata": {
        "id": "ZXkLRtuDvyCR"
      },
      "source": [
        "- Uma função para montar o gráfico dos desafios 1 e 2, reaproveitar o código"
      ]
    },
    {
      "cell_type": "code",
      "metadata": {
        "id": "Lic64eVlr83k"
      },
      "source": [
        "def monta_grafico(ano_mes, ordenacao):\n",
        "  # sort_values para ordenar\n",
        "  df = df_processamento.sort_values(by=ano_mes, ascending=ordenacao)\n",
        "\n",
        "  ax = df.plot(x='Unidade da Federação',y=ano_mes,\n",
        "               kind='bar',figsize= (10,6))\n",
        "\n",
        "  ax.yaxis.set_major_formatter(ticker.StrMethodFormatter('{x:,.2f}'))\n",
        "\n",
        "  titulo = 'Custos com procedimentos hospitalares do SUS por local de internação'\n",
        "  sub_titulo = 'Ano/mês de processamento'\n",
        "\n",
        "  # Adiciona o título e o subtitulo, na proxima linha\n",
        "  plt.title(f\"{titulo}\\n{sub_titulo}\")\n",
        "\n",
        "  plt.xlabel('Estados')\n",
        "  plt.ylabel('Custo por Estado')\n",
        "\n",
        "  plt.show()"
      ],
      "execution_count": null,
      "outputs": []
    },
    {
      "cell_type": "markdown",
      "metadata": {
        "id": "MjQ_VUaHl98Q"
      },
      "source": [
        "### Apresentação do gráfico"
      ]
    },
    {
      "cell_type": "code",
      "metadata": {
        "colab": {
          "base_uri": "https://localhost:8080/",
          "height": 511
        },
        "id": "GEhznaVF0CM8",
        "outputId": "63a9766e-f682-4b22-baca-16b134464515"
      },
      "source": [
        "monta_grafico('2008/Ago',False)"
      ],
      "execution_count": null,
      "outputs": []
    },
    {
      "cell_type": "markdown",
      "metadata": {
        "id": "YxG6rrGDYBYj"
      },
      "source": [
        "---\n",
        "## Desafio 2: faça a mesma análise pro mês mais recente."
      ]
    },
    {
      "cell_type": "markdown",
      "metadata": {
        "id": "8uL3_y544h9g"
      },
      "source": [
        "### Apresentação do gráfico"
      ]
    },
    {
      "cell_type": "code",
      "metadata": {
        "colab": {
          "base_uri": "https://localhost:8080/",
          "height": 511
        },
        "id": "sJWvgYJg2leh",
        "outputId": "65bdac1a-8852-4cba-d8e2-7abd91ae0bfe"
      },
      "source": [
        "monta_grafico('2021/Mar',False)"
      ],
      "execution_count": null,
      "outputs": []
    },
    {
      "cell_type": "markdown",
      "metadata": {
        "id": "VxgqQ_kEzlL-"
      },
      "source": [
        "## Referências:\n",
        "\n",
        "*   https://matplotlib.org/stable/api/_as_gen/matplotlib.pyplot.html\n",
        "*   https://pandas.pydata.org/pandas-docs/version/0.23/generated/pandas.DataFrame.plot.html\n",
        "*   https://pandas.pydata.org/pandas-docs/stable/user_guide/indexing.html#returning-a-view-versus-a-copy\n",
        "*   https://www.freecodecamp.org/news/how-to-substring-a-string-in-python/\n",
        "*   https://cursos.alura.com.br/forum/topico-ordenar-uma-coluna-em-ordem-crescente-e-a-coluna-ao-lado-siga-o-novo-index-94377\n",
        "*   https://www.storytellingwithdata.com/blog/2020/4/22/alternatives-to-diagonal-axis-labels\n",
        "\n",
        "\n"
      ]
    }
  ]
}